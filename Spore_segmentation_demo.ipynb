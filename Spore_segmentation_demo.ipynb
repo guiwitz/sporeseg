{
 "cells": [
  {
   "cell_type": "markdown",
   "metadata": {},
   "source": [
    "# Spore segmentation"
   ]
  },
  {
   "cell_type": "markdown",
   "metadata": {},
   "source": [
    "All funncitons are stored into the spores.py module. Other necessary libraries are:\n",
    "- numpy \n",
    "- pandas \n",
    "- matplotlib\n",
    "- scikit-image\n",
    "- scikit-learn"
   ]
  },
  {
   "cell_type": "code",
   "execution_count": null,
   "metadata": {},
   "outputs": [],
   "source": [
    "%load_ext autoreload\n",
    "%autoreload 2\n",
    "\n",
    "from sporeClass import Spore\n",
    "spores = Spore(show_output=True)"
   ]
  },
  {
   "cell_type": "markdown",
   "metadata": {},
   "source": [
    "## Running interactively"
   ]
  },
  {
   "cell_type": "markdown",
   "metadata": {},
   "source": [
    "Provide the folder where your images are stored:"
   ]
  },
  {
   "cell_type": "code",
   "execution_count": null,
   "metadata": {},
   "outputs": [],
   "source": [
    "exp_folder = '/Users/gw18g940/Desktop/Test_data/Gladyshev/RSP10_small'"
   ]
  },
  {
   "cell_type": "markdown",
   "metadata": {},
   "source": [
    "Provide the folder where you want to store the analyisis (if it doesn't exist, it is created automatically). A subfolder with the same name as the original experiment folder is created in that folder."
   ]
  },
  {
   "cell_type": "code",
   "execution_count": null,
   "metadata": {},
   "outputs": [],
   "source": [
    "result_folder = '/Users/gw18g940/Desktop/Test_data/Gladyshev/Results2/'"
   ]
  },
  {
   "cell_type": "markdown",
   "metadata": {},
   "source": [
    "Analyse a complete folder. This saves a Pandas dataframe with segmentation information as well as an image of the segmentation for each image:"
   ]
  },
  {
   "cell_type": "code",
   "execution_count": null,
   "metadata": {},
   "outputs": [],
   "source": [
    "spores.analyse_spore_folder(exp_folder, result_folder)"
   ]
  },
  {
   "cell_type": "markdown",
   "metadata": {},
   "source": [
    "For a given analysis we now combine all the segmentation information and define two categories by defining a threshold between the two Gaussians. We need that threshold to be able to call each spore. The actual fraction is calculated as the fraction of spores belonging to the \"round spores\" Gaussian.\n",
    "\n",
    "Here we save the histogram plot, a table with the corresponding data and a tiny table with the file name and the calculated fraction."
   ]
  },
  {
   "cell_type": "code",
   "execution_count": null,
   "metadata": {},
   "outputs": [],
   "source": [
    "spores.show_legend = False\n",
    "spores.show_title = True\n",
    "spores.split_categories(spores.path_to_analysis(exp_folder, result_folder))"
   ]
  },
  {
   "cell_type": "markdown",
   "metadata": {},
   "source": [
    "Finally we show again the segmentation but now each spore is assigned to one category:"
   ]
  },
  {
   "cell_type": "code",
   "execution_count": null,
   "metadata": {},
   "outputs": [],
   "source": [
    "spores.show_output=True\n",
    "spores.plot_image_categories(exp_folder, result_folder)"
   ]
  },
  {
   "cell_type": "markdown",
   "metadata": {},
   "source": [
    "## Running as a script"
   ]
  },
  {
   "cell_type": "markdown",
   "metadata": {},
   "source": [
    "All the above steps can be run as two scripts:\n",
    "    1. spore_segmentation.py\n",
    "    2. spore_calling.py\n",
    "    \n",
    "Both scripts take as input the folder path containing images and the folder containing results.\n",
    "\n",
    "First we run the segmentation (you can run that same line from your command line tool withouth the ! sign). You can  have the plots showing up by using the ```--show_output``` flag.\n",
    "\n",
    "Then we run the classification which takes again the two same folders as arguments. In addition there are several options to use:\n",
    "- adjust the size limit for spores with the ```--min_area <value>``` and ```--max_area <value>``` flags\n",
    "- show the output using ```--show_output```\n",
    "- add a title to the histogram plot ```--show_title```\n",
    "- add a legend to the histogram plot ```--show_legend```"
   ]
  },
  {
   "cell_type": "code",
   "execution_count": null,
   "metadata": {},
   "outputs": [],
   "source": [
    "!python spore_segmentation.py '/Users/gw18g940/Desktop/Test_data/Gladyshev/RSP10_small' \\\n",
    "'/Users/gw18g940/Desktop/Test_data/Gladyshev/Results2'\n"
   ]
  },
  {
   "cell_type": "code",
   "execution_count": null,
   "metadata": {},
   "outputs": [],
   "source": [
    "!python spore_calling.py '/Users/gw18g940/Desktop/Test_data/Gladyshev/RSP10_small' \\\n",
    "'/Users/gw18g940/Desktop/Test_data/Gladyshev/Results2' --max_area 1000 --show_legend --show_title\n"
   ]
  },
  {
   "cell_type": "markdown",
   "metadata": {},
   "source": [
    "## Running the full analysis on multiple datasets"
   ]
  },
  {
   "cell_type": "markdown",
   "metadata": {},
   "source": [
    "The steps above can be combined for multiple experiments by executing the spore_multiexperiment.py script. Here the first argument is a folder containing multiple experiment subfolders:\n",
    "\n",
    "Main_folder:\n",
    "- RSP10\n",
    "    - image1.jpg\n",
    "    - image2.jpg\n",
    "- RSP11\n",
    "    - image1.jpg\n",
    "    - image2.jpg\n",
    "         \n",
    "The script goes through all folders and does the full analysis.\n",
    "\n",
    "The same flags as those available in spore_calling.py (```--show_legend``` etc.) can be used here."
   ]
  },
  {
   "cell_type": "code",
   "execution_count": null,
   "metadata": {},
   "outputs": [],
   "source": [
    "!python spore_multiexperiment.py '/Users/gw18g940/Desktop/Test_data/Gladyshev/Multiple_datasets' \\\n",
    "'/Users/gw18g940/Desktop/Test_data/Gladyshev/Results_multi' --show_title\n"
   ]
  },
  {
   "cell_type": "code",
   "execution_count": null,
   "metadata": {},
   "outputs": [],
   "source": []
  }
 ],
 "metadata": {
  "kernelspec": {
   "display_name": "Python 3",
   "language": "python",
   "name": "python3"
  },
  "language_info": {
   "codemirror_mode": {
    "name": "ipython",
    "version": 3
   },
   "file_extension": ".py",
   "mimetype": "text/x-python",
   "name": "python",
   "nbconvert_exporter": "python",
   "pygments_lexer": "ipython3",
   "version": "3.7.3"
  }
 },
 "nbformat": 4,
 "nbformat_minor": 4
}
